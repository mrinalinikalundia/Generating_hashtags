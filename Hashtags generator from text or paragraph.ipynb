{
 "cells": [
  {
   "cell_type": "code",
   "execution_count": 19,
   "id": "657f36c9",
   "metadata": {},
   "outputs": [
    {
     "name": "stdout",
     "output_type": "stream",
     "text": [
      "Requirement already satisfied: pyperclip in f:\\anaconda\\lib\\site-packages (1.8.2)"
     ]
    }
   ],
   "source": [
    "! pip install pyperclip"
   ]
  },
  {
   "cell_type": "code",
   "execution_count": 20,
   "id": "1f535707",
   "metadata": {},
   "outputs": [
    {
     "name": "stdout",
     "output_type": "stream",
     "text": [
      "\n"
     ]
    }
   ],
   "source": [
    "import tkinter as tk\n",
    "#from tkinter import END\n",
    "import pyperclip"
   ]
  },
  {
   "cell_type": "code",
   "execution_count": 21,
   "id": "9678adea",
   "metadata": {},
   "outputs": [
    {
     "data": {
      "text/plain": [
       "''"
      ]
     },
     "execution_count": 21,
     "metadata": {},
     "output_type": "execute_result"
    }
   ],
   "source": [
    "my_w = tk.Tk()\n",
    "my_w.geometry(\"700x500\")  # Size of the window \n",
    "my_w.title(\"www.hashtag.com\")"
   ]
  },
  {
   "cell_type": "code",
   "execution_count": 22,
   "id": "149c15c6",
   "metadata": {},
   "outputs": [],
   "source": [
    "l1 = tk.Label(my_w,  text='Your Data', width=10,font=20 )  # added one Label \n",
    "l1.grid(row=0,column=0,padx=10,pady=10,columnspan=2) \n",
    "t1 = tk.Text(my_w,height=6, width=50,bg='pink',font=28) # text box\n",
    "t1.grid(row=1,column=0,padx=10,columnspan=2) \n",
    "b1=tk.Button(my_w,text='Generate hashtags #',font=22,command=lambda:my_tags())\n",
    "b1.grid(row=2,column=0,pady=5)\n",
    "t2=tk.Text(my_w,height=6,width=50,font=14)\n",
    "t2.grid(row=3,column=0,padx=20,pady=20)"
   ]
  },
  {
   "cell_type": "code",
   "execution_count": 23,
   "id": "04fec006",
   "metadata": {},
   "outputs": [],
   "source": [
    "def my_tags():\n",
    "    my_str=t1.get(\"1.0\",'end-1c') # read the inputs\n",
    "    my_str = my_str.replace('\\n', ' ').replace('\\r', '')# linebreak carriage \n",
    "    tags_all=my_str.split(' ') # break with one space gap to create list\n",
    "    tags_remove=['all','All','to','To','And','and','or','is','.',',']\n",
    "    tags_all=list(set(tags_all)-set(tags_remove))\n",
    "    tags_all=['#' + s  for s in tags_all] # add hash to all elements\n",
    "    my_str = ' '.join(map(str, tags_all)) # from list create string\n",
    "    t2.delete('1.0','end') # remove the previous entry if any \n",
    "    t2.insert(tk.END, my_str) # add to text \n",
    "    t2.tag_add(\"sel\", \"1.0\",\"end\") # all text selected\n",
    "    t2.tag_config(\"sel\",background=\"green\",foreground=\"red\")\n",
    "    pyperclip.copy(t2.selection_get()) # copy to clipboard "
   ]
  },
  {
   "cell_type": "code",
   "execution_count": 24,
   "id": "c153607d",
   "metadata": {},
   "outputs": [],
   "source": [
    "my_w.mainloop()"
   ]
  },
  {
   "cell_type": "code",
   "execution_count": null,
   "id": "fc988b5a",
   "metadata": {},
   "outputs": [],
   "source": []
  }
 ],
 "metadata": {
  "kernelspec": {
   "display_name": "Python 3",
   "language": "python",
   "name": "python3"
  },
  "language_info": {
   "codemirror_mode": {
    "name": "ipython",
    "version": 3
   },
   "file_extension": ".py",
   "mimetype": "text/x-python",
   "name": "python",
   "nbconvert_exporter": "python",
   "pygments_lexer": "ipython3",
   "version": "3.9.13"
  }
 },
 "nbformat": 4,
 "nbformat_minor": 5
}
